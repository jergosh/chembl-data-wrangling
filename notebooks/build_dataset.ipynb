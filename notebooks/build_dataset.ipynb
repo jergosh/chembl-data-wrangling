{
 "cells": [
  {
   "cell_type": "markdown",
   "id": "728970b8",
   "metadata": {},
   "source": [
    "## ChEMBL data wrangling\n",
    "\n",
    "This notebook pulls hERG and CYP3A4 assay data from ChEMBL, filters for compounds with both endpoints, standardizes SMILES, and outputs a model-ready dataset."
   ]
  },
  {
   "cell_type": "code",
   "execution_count": 191,
   "id": "b0c2120d",
   "metadata": {},
   "outputs": [],
   "source": [
    "from typing import Optional\n",
    "\n",
    "import numpy as np\n",
    "import pandas as pd\n",
    "import seaborn as sns\n",
    "import matplotlib.pyplot as plt\n",
    "\n",
    "from scipy.stats import gmean\n",
    "\n",
    "from chembl_webresource_client.new_client import new_client\n",
    "from rdkit import Chem\n",
    "from rdkit.Chem import QED\n",
    "from rdkit.Chem import SaltRemover\n",
    "from rdkit.Chem.rdmolfiles import MolFromSmiles, MolToSmiles"
   ]
  },
  {
   "cell_type": "markdown",
   "id": "a58e7c94",
   "metadata": {},
   "source": [
    "### Set up &mdash; get target ChEMBL IDs etc."
   ]
  },
  {
   "cell_type": "code",
   "execution_count": 188,
   "id": "f4933b40",
   "metadata": {},
   "outputs": [],
   "source": [
    "N_COMPOUNDS = 300\n",
    "\n",
    "target = new_client.target\n",
    "\n",
    "targets = {\n",
    "    \"hERG\": target.filter(pref_name__iexact='hERG')[0]['target_chembl_id'],\n",
    "    \"CYP3A4\": target.filter(pref_name__iexact='Cytochrome P450 3A4')[0]['target_chembl_id']\n",
    "}\n",
    "data_columns = [\"molecule_chembl_id\", \"assay_chembl_id\", \"canonical_smiles\", \"standard_value\", \"standard_type\", \"standard_units\", \"pchembl_value\"]\n",
    "\n",
    "salt_remover = SaltRemover.SaltRemover()"
   ]
  },
  {
   "cell_type": "markdown",
   "id": "5ab6d8f6",
   "metadata": {},
   "source": [
    "### Fetch data for hERG and CYP3A4\n"
   ]
  },
  {
   "cell_type": "code",
   "execution_count": 205,
   "id": "5e7d9074",
   "metadata": {},
   "outputs": [],
   "source": [
    "def tidy_activity_data(df: pd.DataFrame, endpoint: str) -> pd.DataFrame:\n",
    "    \"\"\"\n",
    "    Clean activity data:\n",
    "    - drop invalid SMILES\n",
    "    - convert values to uM\n",
    "    - strip salts\n",
    "    \"\"\"\n",
    "    def smiles_helper(smiles: str) -> str:\n",
    "        mol = MolFromSmiles(smiles)\n",
    "        clean_mol = salt_remover.StripMol(mol, dontRemoveEverything=True)\n",
    "        \n",
    "        return MolToSmiles(clean_mol)\n",
    "        \n",
    "\n",
    "    invalid_smiles = df['canonical_smiles'].apply(lambda x: Chem.MolFromSmiles(x, sanitize=False)).isnull()\n",
    "    df = df[~invalid_smiles]\n",
    "    \n",
    "    df['canonical_smiles'] = df['canonical_smiles'].apply(smiles_helper)\n",
    "    \n",
    "    assert set(df['standard_units']) == set(['nM'])\n",
    "    \n",
    "    df = df[~df['standard_value'].isnull()]\n",
    "    df['value'] = df['standard_value'].apply(lambda x: float(x) / 1000)\n",
    "    df['pchembl'] = df['pchembl_value']. apply(lambda x: float(x) if (x is not None) else None)\n",
    "    \n",
    "    df['endpoint'] = endpoint\n",
    "    \n",
    "    df.rename(columns={\n",
    "        \"molecule_chembl_id\": \"chembl_id\",\n",
    "    }, inplace=True)\n",
    "        \n",
    "    return df[[\"chembl_id\", \"canonical_smiles\", \"endpoint\", \"value\", \"pchembl\"]]"
   ]
  },
  {
   "cell_type": "markdown",
   "id": "3196b9f2-7b62-41c8-b261-fdd2d8b0041e",
   "metadata": {},
   "source": [
    "First, hERG &mdash; we obtain all activity data where the result is IC50 (vast majority of available data) and where the unit is nM (again, true of most of the data)."
   ]
  },
  {
   "cell_type": "code",
   "execution_count": 206,
   "id": "a7972ec5-48a6-4100-a6bc-1ba33e891a82",
   "metadata": {},
   "outputs": [],
   "source": [
    "hERG_activity_data = new_client.activity.filter(target_chembl_id=targets['hERG']).filter(\n",
    "        standard_type=\"IC50\", standard_units=\"nM\"\n",
    "    ).only(data_columns)\n",
    "hERG_activity_df = tidy_activity_data(pd.DataFrame(hERG_activity_data), endpoint='herg')"
   ]
  },
  {
   "cell_type": "markdown",
   "id": "0607b56f-4370-4f79-a9f8-ad46b9d48896",
   "metadata": {},
   "source": [
    "Now, CYP3A4: unlike for hERG, there are multiple distinct CYP3A4 assays (inhibition, induction, metabolism). For the purpose of this analysis, we focus on CYP inhibition by only obtaining data from assays that have 'inhibit' in its description."
   ]
  },
  {
   "cell_type": "code",
   "execution_count": 207,
   "id": "f1eb210e-b5d3-4921-916c-6d3910405ca1",
   "metadata": {},
   "outputs": [],
   "source": [
    "CYP_assays = new_client.assay.filter(target_chembl_id=targets[\"CYP3A4\"], description__icontains=\"inhibit\")\n",
    "CYP_assay_ids = list({ it['assay_chembl_id'] for it in CYP_assays })"
   ]
  },
  {
   "cell_type": "code",
   "execution_count": 214,
   "id": "338ad4ff-ac0d-4274-b0f0-bfd3701c19f0",
   "metadata": {},
   "outputs": [],
   "source": [
    "CYP3A4_activity_data = new_client.activity.filter(target_chembl_id=targets['CYP3A4']).filter(\n",
    "        standard_type=\"IC50\", standard_units=\"nM\", assay_chembl_id__in=CYP_assay_ids\n",
    "    ).only(data_columns)\n",
    "CYP3A4_activity_df = tidy_activity_data(pd.DataFrame(CYP3A4_activity_data), endpoint='cyp3a4')"
   ]
  },
  {
   "cell_type": "markdown",
   "id": "36e4a466",
   "metadata": {},
   "source": [
    "## Quality control"
   ]
  },
  {
   "cell_type": "markdown",
   "id": "9cae0809-9ede-4b5c-ac4a-2671191d9655",
   "metadata": {},
   "source": [
    "### QC: Check if values are > 0"
   ]
  },
  {
   "cell_type": "code",
   "execution_count": 215,
   "id": "913db5e7-4f8c-4bc7-a606-fb7127397222",
   "metadata": {},
   "outputs": [],
   "source": [
    "hERG_activity_df = hERG_activity_df[hERG_activity_df['value'] > 0]\n",
    "CYP3A4_activity_df = CYP3A4_activity_df[CYP3A4_activity_df['value'] > 0]"
   ]
  },
  {
   "cell_type": "markdown",
   "id": "022c4b26-48ba-466d-aa0a-23ce8ca9bf98",
   "metadata": {},
   "source": [
    "### QC: Avoiding duplicate values\n",
    "Avoiding duplicates: depending on what's intended, we can drop all molecules with >1 measurement, or use the median or geometric mean to summarise multiple values "
   ]
  },
  {
   "cell_type": "code",
   "execution_count": 199,
   "id": "2d84e832-4231-44e7-82ab-ebfe7162cdc6",
   "metadata": {},
   "outputs": [],
   "source": [
    "## Quick and dirty: drop all molecules with multiple measurements\n",
    "# hERG_activity_df[~hERG_activity_df['molecule_chembl_id'].duplicated(keep=False)]\n",
    "# hERG_clean_df[~hERG_activity_df['molecule_chembl_id'].duplicated(keep=False)]\n",
    "\n",
    "\n",
    "# More principled: combine data\n",
    "def agg_values(df: pd.DataFrame) -> pd.DataFrame:\n",
    "    \"\"\"\n",
    "    Aggregate values for each compound:\n",
    "    - For IC50 values, calculate the geometric mean\n",
    "    - pChEMBL are in log space, so calculate the arithmetic mean\n",
    "    \"\"\"\n",
    "    return df.groupby([\"chembl_id\", \"canonical_smiles\", \"endpoint\"]).agg(\n",
    "        value=('value', gmean), # or median\n",
    "        pchembl=('pchembl', 'mean') # or median\n",
    "    ).reset_index()\n",
    "\n",
    "hERG_activity_df = agg_values(hERG_activity_df)\n",
    "CYP3A4_activity_df = agg_values(CYP3A4_activity_df)"
   ]
  },
  {
   "cell_type": "markdown",
   "id": "7eac8c45-03bf-472e-97e3-3e54980ad62f",
   "metadata": {},
   "source": [
    "### Filtering to retain compounds with both endpoints measured"
   ]
  },
  {
   "cell_type": "code",
   "execution_count": 200,
   "id": "a0405831",
   "metadata": {},
   "outputs": [],
   "source": [
    "ids_both = list(set(hERG_activity_df[\"chembl_id\"]) & set(CYP3A4_activity_df[\"chembl_id\"]))[:N_COMPOUNDS]\n",
    "\n",
    "hERG_activity_df = hERG_activity_df[hERG_activity_df[\"chembl_id\"].isin(ids_both)]\n",
    "CYP3A4_activity_df = CYP3A4_activity_df[CYP3A4_activity_df[\"chembl_id\"].isin(ids_both)]\n",
    "\n",
    "output_df = pd.concat([\n",
    "    hERG_activity_df,\n",
    "    CYP3A4_activity_df\n",
    "])"
   ]
  },
  {
   "cell_type": "markdown",
   "id": "3ca1a88f-dc9c-4547-a04d-ab19627cc3c5",
   "metadata": {},
   "source": [
    "### QC / sanity check: QED distribution\n",
    "We check how 'drug-like' the molecules we end up with are by calculating QED scores (Bickerton et al. 2012)."
   ]
  },
  {
   "cell_type": "code",
   "execution_count": 201,
   "id": "df90d5c0-5270-417c-a018-bfe4c38442b7",
   "metadata": {},
   "outputs": [
    {
     "data": {
      "image/png": "[encoded data removed]",
      "text/plain": [
       "<Figure size 800x500 with 1 Axes>"
      ]
     },
     "metadata": {},
     "output_type": "display_data"
    }
   ],
   "source": [
    "qeds = hERG_activity_df[\"canonical_smiles\"].apply(lambda x: QED.qed(Chem.MolFromSmiles(x)))\n",
    "\n",
    "sns.set(style=\"whitegrid\")\n",
    "plt.figure(figsize=(8, 5))\n",
    "sns.histplot(qeds, bins=30, kde=True, color=\"skyblue\") # .dropna()\n",
    "plt.title(\"QED scores\", fontsize=14)\n",
    "plt.xlabel(\"QED\", fontsize=12)\n",
    "plt.ylabel(\"Compound count\", fontsize=12)\n",
    "plt.tight_layout()\n",
    "plt.show()"
   ]
  },
  {
   "cell_type": "markdown",
   "id": "a9fd2e2e-8ed8-4a05-b42a-b2ab82b5e005",
   "metadata": {},
   "source": [
    "### Save output"
   ]
  },
  {
   "cell_type": "code",
   "execution_count": 202,
   "id": "a0aa0dbc",
   "metadata": {},
   "outputs": [
    {
     "name": "stdout",
     "output_type": "stream",
     "text": [
      "Saved dataset.csv with 600 rows (300 unique compounds).\n"
     ]
    }
   ],
   "source": [
    "output_df.to_csv(\"../data/dataset.csv\", index=False)\n",
    "print(f\"Saved dataset.csv with {len(output_df)} rows ({len(ids_both)} unique compounds).\")"
   ]
  }
 ],
 "metadata": {
  "kernelspec": {
   "display_name": "Python (chembl-data-wrangling)",
   "language": "python",
   "name": "chembl-data-wrangling"
  },
  "language_info": {
   "codemirror_mode": {
    "name": "ipython",
    "version": 3
   },
   "file_extension": ".py",
   "mimetype": "text/x-python",
   "name": "python",
   "nbconvert_exporter": "python",
   "pygments_lexer": "ipython3",
   "version": "3.10.6"
  }
 },
 "nbformat": 4,
 "nbformat_minor": 5
}
